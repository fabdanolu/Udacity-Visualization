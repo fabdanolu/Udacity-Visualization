{
 "cells": [
  {
   "cell_type": "markdown",
   "metadata": {
    "slideshow": {
     "slide_type": "slide"
    }
   },
   "source": [
    "# Part II - Loan Data from Prosper\n",
    "## by Fabi Daniel"
   ]
  },
  {
   "cell_type": "markdown",
   "metadata": {
    "slideshow": {
     "slide_type": "slide"
    }
   },
   "source": [
    "\n",
    "## Investigation Overview\n",
    "\n",
    "\n",
    "> The *task* is to accurately determine the ***factors*** that affect the *Loan Outcome status* and to give an answer to the *Question* how *well* are the Prosper Loans Doing? Special Focus was put on some variables based on the assumption that the **Rates**, **Principal** and **Term** are important in any loan Situation.\n",
    "\n",
    "To clarify, the loan status was categorized\n",
    "* `Positive Loan Status`: This basically is for Loans that are healthy i.e currently running, loans in their final stages and loans already completed\n",
    "* `Negative Loan Status`: This is for Loans that are unhealthy i.e Cancelled, Chargedoff and Past Due\n",
    "\n",
    "\n",
    "## Dataset Overview\n",
    "\n",
    "> This data set contains 113,937 loans with 81 variables on each loan, including loan amount, borrower rate (or interest rate), current loan status, term, borrower income, and many others. The dataset was later trimmed to 12 columns removing columns that are surplus to our investigation and deleting rows with Null Values.\n",
    "Special Focus was put on some variables based on the assumption that the **Rates**, **Principal** and **Term** are important in any loan Situation.\n",
    "\n"
   ]
  },
  {
   "cell_type": "code",
   "execution_count": 19,
   "metadata": {
    "slideshow": {
     "slide_type": "skip"
    }
   },
   "outputs": [],
   "source": [
    "# import all packages and set plots to be embedded inline\n",
    "import numpy as np\n",
    "import pandas as pd\n",
    "import matplotlib.pyplot as plt\n",
    "import seaborn as sb\n",
    "\n",
    "%matplotlib inline\n",
    "\n",
    "# suppress warnings from final output\n",
    "import warnings\n",
    "warnings.simplefilter(\"ignore\")"
   ]
  },
  {
   "cell_type": "code",
   "execution_count": 20,
   "metadata": {
    "slideshow": {
     "slide_type": "skip"
    }
   },
   "outputs": [
    {
     "data": {
      "text/html": [
       "<div>\n",
       "<style scoped>\n",
       "    .dataframe tbody tr th:only-of-type {\n",
       "        vertical-align: middle;\n",
       "    }\n",
       "\n",
       "    .dataframe tbody tr th {\n",
       "        vertical-align: top;\n",
       "    }\n",
       "\n",
       "    .dataframe thead th {\n",
       "        text-align: right;\n",
       "    }\n",
       "</style>\n",
       "<table border=\"1\" class=\"dataframe\">\n",
       "  <thead>\n",
       "    <tr style=\"text-align: right;\">\n",
       "      <th></th>\n",
       "      <th>ListingKey</th>\n",
       "      <th>ListingNumber</th>\n",
       "      <th>ListingCreationDate</th>\n",
       "      <th>CreditGrade</th>\n",
       "      <th>Term</th>\n",
       "      <th>LoanStatus</th>\n",
       "      <th>ClosedDate</th>\n",
       "      <th>BorrowerAPR</th>\n",
       "      <th>BorrowerRate</th>\n",
       "      <th>LenderYield</th>\n",
       "      <th>...</th>\n",
       "      <th>LP_ServiceFees</th>\n",
       "      <th>LP_CollectionFees</th>\n",
       "      <th>LP_GrossPrincipalLoss</th>\n",
       "      <th>LP_NetPrincipalLoss</th>\n",
       "      <th>LP_NonPrincipalRecoverypayments</th>\n",
       "      <th>PercentFunded</th>\n",
       "      <th>Recommendations</th>\n",
       "      <th>InvestmentFromFriendsCount</th>\n",
       "      <th>InvestmentFromFriendsAmount</th>\n",
       "      <th>Investors</th>\n",
       "    </tr>\n",
       "  </thead>\n",
       "  <tbody>\n",
       "    <tr>\n",
       "      <th>0</th>\n",
       "      <td>1021339766868145413AB3B</td>\n",
       "      <td>193129</td>\n",
       "      <td>2007-08-26 19:09:29.263000000</td>\n",
       "      <td>C</td>\n",
       "      <td>36</td>\n",
       "      <td>Completed</td>\n",
       "      <td>2009-08-14 00:00:00</td>\n",
       "      <td>0.16516</td>\n",
       "      <td>0.1580</td>\n",
       "      <td>0.1380</td>\n",
       "      <td>...</td>\n",
       "      <td>-133.18</td>\n",
       "      <td>0.0</td>\n",
       "      <td>0.0</td>\n",
       "      <td>0.0</td>\n",
       "      <td>0.0</td>\n",
       "      <td>1.0</td>\n",
       "      <td>0</td>\n",
       "      <td>0</td>\n",
       "      <td>0.0</td>\n",
       "      <td>258</td>\n",
       "    </tr>\n",
       "    <tr>\n",
       "      <th>1</th>\n",
       "      <td>10273602499503308B223C1</td>\n",
       "      <td>1209647</td>\n",
       "      <td>2014-02-27 08:28:07.900000000</td>\n",
       "      <td>NaN</td>\n",
       "      <td>36</td>\n",
       "      <td>Current</td>\n",
       "      <td>NaN</td>\n",
       "      <td>0.12016</td>\n",
       "      <td>0.0920</td>\n",
       "      <td>0.0820</td>\n",
       "      <td>...</td>\n",
       "      <td>0.00</td>\n",
       "      <td>0.0</td>\n",
       "      <td>0.0</td>\n",
       "      <td>0.0</td>\n",
       "      <td>0.0</td>\n",
       "      <td>1.0</td>\n",
       "      <td>0</td>\n",
       "      <td>0</td>\n",
       "      <td>0.0</td>\n",
       "      <td>1</td>\n",
       "    </tr>\n",
       "    <tr>\n",
       "      <th>2</th>\n",
       "      <td>0EE9337825851032864889A</td>\n",
       "      <td>81716</td>\n",
       "      <td>2007-01-05 15:00:47.090000000</td>\n",
       "      <td>HR</td>\n",
       "      <td>36</td>\n",
       "      <td>Completed</td>\n",
       "      <td>2009-12-17 00:00:00</td>\n",
       "      <td>0.28269</td>\n",
       "      <td>0.2750</td>\n",
       "      <td>0.2400</td>\n",
       "      <td>...</td>\n",
       "      <td>-24.20</td>\n",
       "      <td>0.0</td>\n",
       "      <td>0.0</td>\n",
       "      <td>0.0</td>\n",
       "      <td>0.0</td>\n",
       "      <td>1.0</td>\n",
       "      <td>0</td>\n",
       "      <td>0</td>\n",
       "      <td>0.0</td>\n",
       "      <td>41</td>\n",
       "    </tr>\n",
       "    <tr>\n",
       "      <th>3</th>\n",
       "      <td>0EF5356002482715299901A</td>\n",
       "      <td>658116</td>\n",
       "      <td>2012-10-22 11:02:35.010000000</td>\n",
       "      <td>NaN</td>\n",
       "      <td>36</td>\n",
       "      <td>Current</td>\n",
       "      <td>NaN</td>\n",
       "      <td>0.12528</td>\n",
       "      <td>0.0974</td>\n",
       "      <td>0.0874</td>\n",
       "      <td>...</td>\n",
       "      <td>-108.01</td>\n",
       "      <td>0.0</td>\n",
       "      <td>0.0</td>\n",
       "      <td>0.0</td>\n",
       "      <td>0.0</td>\n",
       "      <td>1.0</td>\n",
       "      <td>0</td>\n",
       "      <td>0</td>\n",
       "      <td>0.0</td>\n",
       "      <td>158</td>\n",
       "    </tr>\n",
       "    <tr>\n",
       "      <th>4</th>\n",
       "      <td>0F023589499656230C5E3E2</td>\n",
       "      <td>909464</td>\n",
       "      <td>2013-09-14 18:38:39.097000000</td>\n",
       "      <td>NaN</td>\n",
       "      <td>36</td>\n",
       "      <td>Current</td>\n",
       "      <td>NaN</td>\n",
       "      <td>0.24614</td>\n",
       "      <td>0.2085</td>\n",
       "      <td>0.1985</td>\n",
       "      <td>...</td>\n",
       "      <td>-60.27</td>\n",
       "      <td>0.0</td>\n",
       "      <td>0.0</td>\n",
       "      <td>0.0</td>\n",
       "      <td>0.0</td>\n",
       "      <td>1.0</td>\n",
       "      <td>0</td>\n",
       "      <td>0</td>\n",
       "      <td>0.0</td>\n",
       "      <td>20</td>\n",
       "    </tr>\n",
       "  </tbody>\n",
       "</table>\n",
       "<p>5 rows × 81 columns</p>\n",
       "</div>"
      ],
      "text/plain": [
       "                ListingKey  ListingNumber            ListingCreationDate  \\\n",
       "0  1021339766868145413AB3B         193129  2007-08-26 19:09:29.263000000   \n",
       "1  10273602499503308B223C1        1209647  2014-02-27 08:28:07.900000000   \n",
       "2  0EE9337825851032864889A          81716  2007-01-05 15:00:47.090000000   \n",
       "3  0EF5356002482715299901A         658116  2012-10-22 11:02:35.010000000   \n",
       "4  0F023589499656230C5E3E2         909464  2013-09-14 18:38:39.097000000   \n",
       "\n",
       "  CreditGrade  Term LoanStatus           ClosedDate  BorrowerAPR  \\\n",
       "0           C    36  Completed  2009-08-14 00:00:00      0.16516   \n",
       "1         NaN    36    Current                  NaN      0.12016   \n",
       "2          HR    36  Completed  2009-12-17 00:00:00      0.28269   \n",
       "3         NaN    36    Current                  NaN      0.12528   \n",
       "4         NaN    36    Current                  NaN      0.24614   \n",
       "\n",
       "   BorrowerRate  LenderYield  ...  LP_ServiceFees  LP_CollectionFees  \\\n",
       "0        0.1580       0.1380  ...         -133.18                0.0   \n",
       "1        0.0920       0.0820  ...            0.00                0.0   \n",
       "2        0.2750       0.2400  ...          -24.20                0.0   \n",
       "3        0.0974       0.0874  ...         -108.01                0.0   \n",
       "4        0.2085       0.1985  ...          -60.27                0.0   \n",
       "\n",
       "   LP_GrossPrincipalLoss  LP_NetPrincipalLoss LP_NonPrincipalRecoverypayments  \\\n",
       "0                    0.0                  0.0                             0.0   \n",
       "1                    0.0                  0.0                             0.0   \n",
       "2                    0.0                  0.0                             0.0   \n",
       "3                    0.0                  0.0                             0.0   \n",
       "4                    0.0                  0.0                             0.0   \n",
       "\n",
       "   PercentFunded  Recommendations InvestmentFromFriendsCount  \\\n",
       "0            1.0                0                          0   \n",
       "1            1.0                0                          0   \n",
       "2            1.0                0                          0   \n",
       "3            1.0                0                          0   \n",
       "4            1.0                0                          0   \n",
       "\n",
       "  InvestmentFromFriendsAmount Investors  \n",
       "0                         0.0       258  \n",
       "1                         0.0         1  \n",
       "2                         0.0        41  \n",
       "3                         0.0       158  \n",
       "4                         0.0        20  \n",
       "\n",
       "[5 rows x 81 columns]"
      ]
     },
     "execution_count": 20,
     "metadata": {},
     "output_type": "execute_result"
    }
   ],
   "source": [
    "# load in the dataset into a pandas dataframe\n",
    "loans = pd.read_csv('prosperLoanData.csv')\n",
    "loans.head()"
   ]
  },
  {
   "cell_type": "code",
   "execution_count": 21,
   "metadata": {
    "slideshow": {
     "slide_type": "skip"
    }
   },
   "outputs": [
    {
     "data": {
      "text/html": [
       "<div>\n",
       "<style scoped>\n",
       "    .dataframe tbody tr th:only-of-type {\n",
       "        vertical-align: middle;\n",
       "    }\n",
       "\n",
       "    .dataframe tbody tr th {\n",
       "        vertical-align: top;\n",
       "    }\n",
       "\n",
       "    .dataframe thead th {\n",
       "        text-align: right;\n",
       "    }\n",
       "</style>\n",
       "<table border=\"1\" class=\"dataframe\">\n",
       "  <thead>\n",
       "    <tr style=\"text-align: right;\">\n",
       "      <th></th>\n",
       "      <th>Term</th>\n",
       "      <th>LoanStatus</th>\n",
       "      <th>BorrowerAPR</th>\n",
       "      <th>BorrowerRate</th>\n",
       "      <th>Occupation</th>\n",
       "      <th>EmploymentStatus</th>\n",
       "      <th>LoanOriginalAmount</th>\n",
       "      <th>IsBorrowerHomeowner</th>\n",
       "      <th>MonthlyLoanPayment</th>\n",
       "      <th>StatedMonthlyIncome</th>\n",
       "      <th>ProsperRating (Alpha)</th>\n",
       "      <th>ListingCategory (numeric)</th>\n",
       "    </tr>\n",
       "  </thead>\n",
       "  <tbody>\n",
       "    <tr>\n",
       "      <th>108531</th>\n",
       "      <td>36</td>\n",
       "      <td>Completed</td>\n",
       "      <td>0.12360</td>\n",
       "      <td>0.1025</td>\n",
       "      <td>Sales - Commission</td>\n",
       "      <td>Full-time</td>\n",
       "      <td>1200</td>\n",
       "      <td>False</td>\n",
       "      <td>38.86</td>\n",
       "      <td>2691.666667</td>\n",
       "      <td>NaN</td>\n",
       "      <td>1</td>\n",
       "    </tr>\n",
       "    <tr>\n",
       "      <th>92918</th>\n",
       "      <td>36</td>\n",
       "      <td>Completed</td>\n",
       "      <td>0.14207</td>\n",
       "      <td>0.1350</td>\n",
       "      <td>Other</td>\n",
       "      <td>Full-time</td>\n",
       "      <td>8000</td>\n",
       "      <td>False</td>\n",
       "      <td>271.48</td>\n",
       "      <td>2080.000000</td>\n",
       "      <td>NaN</td>\n",
       "      <td>1</td>\n",
       "    </tr>\n",
       "    <tr>\n",
       "      <th>58575</th>\n",
       "      <td>36</td>\n",
       "      <td>Current</td>\n",
       "      <td>0.11563</td>\n",
       "      <td>0.0879</td>\n",
       "      <td>Analyst</td>\n",
       "      <td>Employed</td>\n",
       "      <td>10000</td>\n",
       "      <td>True</td>\n",
       "      <td>317.02</td>\n",
       "      <td>7916.666667</td>\n",
       "      <td>A</td>\n",
       "      <td>7</td>\n",
       "    </tr>\n",
       "    <tr>\n",
       "      <th>51304</th>\n",
       "      <td>36</td>\n",
       "      <td>Current</td>\n",
       "      <td>0.21434</td>\n",
       "      <td>0.1774</td>\n",
       "      <td>Accountant/CPA</td>\n",
       "      <td>Employed</td>\n",
       "      <td>10500</td>\n",
       "      <td>True</td>\n",
       "      <td>378.23</td>\n",
       "      <td>6166.666667</td>\n",
       "      <td>C</td>\n",
       "      <td>1</td>\n",
       "    </tr>\n",
       "    <tr>\n",
       "      <th>44322</th>\n",
       "      <td>60</td>\n",
       "      <td>Current</td>\n",
       "      <td>0.18197</td>\n",
       "      <td>0.1585</td>\n",
       "      <td>Other</td>\n",
       "      <td>Employed</td>\n",
       "      <td>20000</td>\n",
       "      <td>False</td>\n",
       "      <td>484.77</td>\n",
       "      <td>6250.000000</td>\n",
       "      <td>B</td>\n",
       "      <td>1</td>\n",
       "    </tr>\n",
       "    <tr>\n",
       "      <th>992</th>\n",
       "      <td>36</td>\n",
       "      <td>Completed</td>\n",
       "      <td>0.35797</td>\n",
       "      <td>0.3177</td>\n",
       "      <td>Biologist</td>\n",
       "      <td>Employed</td>\n",
       "      <td>2000</td>\n",
       "      <td>False</td>\n",
       "      <td>86.85</td>\n",
       "      <td>4833.333333</td>\n",
       "      <td>HR</td>\n",
       "      <td>7</td>\n",
       "    </tr>\n",
       "    <tr>\n",
       "      <th>84020</th>\n",
       "      <td>36</td>\n",
       "      <td>Defaulted</td>\n",
       "      <td>0.13202</td>\n",
       "      <td>0.1250</td>\n",
       "      <td>Other</td>\n",
       "      <td>Full-time</td>\n",
       "      <td>3000</td>\n",
       "      <td>True</td>\n",
       "      <td>100.36</td>\n",
       "      <td>2600.000000</td>\n",
       "      <td>NaN</td>\n",
       "      <td>0</td>\n",
       "    </tr>\n",
       "    <tr>\n",
       "      <th>106617</th>\n",
       "      <td>36</td>\n",
       "      <td>Completed</td>\n",
       "      <td>0.35132</td>\n",
       "      <td>0.3149</td>\n",
       "      <td>Fireman</td>\n",
       "      <td>Employed</td>\n",
       "      <td>4000</td>\n",
       "      <td>True</td>\n",
       "      <td>173.09</td>\n",
       "      <td>4583.333333</td>\n",
       "      <td>E</td>\n",
       "      <td>7</td>\n",
       "    </tr>\n",
       "    <tr>\n",
       "      <th>14335</th>\n",
       "      <td>36</td>\n",
       "      <td>Completed</td>\n",
       "      <td>0.13413</td>\n",
       "      <td>0.1129</td>\n",
       "      <td>Accountant/CPA</td>\n",
       "      <td>Employed</td>\n",
       "      <td>5000</td>\n",
       "      <td>False</td>\n",
       "      <td>164.38</td>\n",
       "      <td>11200.000000</td>\n",
       "      <td>A</td>\n",
       "      <td>7</td>\n",
       "    </tr>\n",
       "    <tr>\n",
       "      <th>111169</th>\n",
       "      <td>36</td>\n",
       "      <td>Chargedoff</td>\n",
       "      <td>0.16215</td>\n",
       "      <td>0.1550</td>\n",
       "      <td>Other</td>\n",
       "      <td>Retired</td>\n",
       "      <td>5600</td>\n",
       "      <td>False</td>\n",
       "      <td>195.50</td>\n",
       "      <td>3166.666667</td>\n",
       "      <td>NaN</td>\n",
       "      <td>0</td>\n",
       "    </tr>\n",
       "    <tr>\n",
       "      <th>73860</th>\n",
       "      <td>60</td>\n",
       "      <td>Completed</td>\n",
       "      <td>0.19330</td>\n",
       "      <td>0.1790</td>\n",
       "      <td>Executive</td>\n",
       "      <td>Employed</td>\n",
       "      <td>13000</td>\n",
       "      <td>True</td>\n",
       "      <td>329.41</td>\n",
       "      <td>4666.666667</td>\n",
       "      <td>B</td>\n",
       "      <td>1</td>\n",
       "    </tr>\n",
       "    <tr>\n",
       "      <th>100301</th>\n",
       "      <td>36</td>\n",
       "      <td>Current</td>\n",
       "      <td>0.33553</td>\n",
       "      <td>0.2958</td>\n",
       "      <td>Other</td>\n",
       "      <td>Not employed</td>\n",
       "      <td>4000</td>\n",
       "      <td>False</td>\n",
       "      <td>168.89</td>\n",
       "      <td>0.000000</td>\n",
       "      <td>E</td>\n",
       "      <td>1</td>\n",
       "    </tr>\n",
       "    <tr>\n",
       "      <th>2345</th>\n",
       "      <td>36</td>\n",
       "      <td>Completed</td>\n",
       "      <td>0.27417</td>\n",
       "      <td>0.2355</td>\n",
       "      <td>Professional</td>\n",
       "      <td>Full-time</td>\n",
       "      <td>1000</td>\n",
       "      <td>False</td>\n",
       "      <td>21.43</td>\n",
       "      <td>2708.333333</td>\n",
       "      <td>D</td>\n",
       "      <td>1</td>\n",
       "    </tr>\n",
       "    <tr>\n",
       "      <th>38146</th>\n",
       "      <td>36</td>\n",
       "      <td>Completed</td>\n",
       "      <td>0.16466</td>\n",
       "      <td>0.1575</td>\n",
       "      <td>NaN</td>\n",
       "      <td>NaN</td>\n",
       "      <td>5000</td>\n",
       "      <td>False</td>\n",
       "      <td>175.17</td>\n",
       "      <td>4479.250000</td>\n",
       "      <td>NaN</td>\n",
       "      <td>0</td>\n",
       "    </tr>\n",
       "    <tr>\n",
       "      <th>110529</th>\n",
       "      <td>36</td>\n",
       "      <td>Current</td>\n",
       "      <td>0.25371</td>\n",
       "      <td>0.2159</td>\n",
       "      <td>Food Service Management</td>\n",
       "      <td>Employed</td>\n",
       "      <td>4000</td>\n",
       "      <td>False</td>\n",
       "      <td>151.91</td>\n",
       "      <td>167.750000</td>\n",
       "      <td>C</td>\n",
       "      <td>7</td>\n",
       "    </tr>\n",
       "    <tr>\n",
       "      <th>54647</th>\n",
       "      <td>36</td>\n",
       "      <td>Current</td>\n",
       "      <td>0.15833</td>\n",
       "      <td>0.1299</td>\n",
       "      <td>Administrative Assistant</td>\n",
       "      <td>Employed</td>\n",
       "      <td>8000</td>\n",
       "      <td>False</td>\n",
       "      <td>269.51</td>\n",
       "      <td>3750.000000</td>\n",
       "      <td>A</td>\n",
       "      <td>1</td>\n",
       "    </tr>\n",
       "    <tr>\n",
       "      <th>57490</th>\n",
       "      <td>36</td>\n",
       "      <td>Completed</td>\n",
       "      <td>0.28851</td>\n",
       "      <td>0.2499</td>\n",
       "      <td>Professional</td>\n",
       "      <td>Employed</td>\n",
       "      <td>4500</td>\n",
       "      <td>True</td>\n",
       "      <td>178.90</td>\n",
       "      <td>6333.333333</td>\n",
       "      <td>D</td>\n",
       "      <td>2</td>\n",
       "    </tr>\n",
       "    <tr>\n",
       "      <th>20264</th>\n",
       "      <td>36</td>\n",
       "      <td>Current</td>\n",
       "      <td>0.18020</td>\n",
       "      <td>0.1440</td>\n",
       "      <td>Accountant/CPA</td>\n",
       "      <td>Employed</td>\n",
       "      <td>2000</td>\n",
       "      <td>True</td>\n",
       "      <td>68.74</td>\n",
       "      <td>8226.666667</td>\n",
       "      <td>B</td>\n",
       "      <td>7</td>\n",
       "    </tr>\n",
       "    <tr>\n",
       "      <th>64950</th>\n",
       "      <td>36</td>\n",
       "      <td>Chargedoff</td>\n",
       "      <td>0.16005</td>\n",
       "      <td>0.1385</td>\n",
       "      <td>Sales - Retail</td>\n",
       "      <td>Full-time</td>\n",
       "      <td>5000</td>\n",
       "      <td>False</td>\n",
       "      <td>170.52</td>\n",
       "      <td>2666.666667</td>\n",
       "      <td>A</td>\n",
       "      <td>1</td>\n",
       "    </tr>\n",
       "    <tr>\n",
       "      <th>116</th>\n",
       "      <td>60</td>\n",
       "      <td>Current</td>\n",
       "      <td>0.19988</td>\n",
       "      <td>0.1760</td>\n",
       "      <td>Executive</td>\n",
       "      <td>Employed</td>\n",
       "      <td>15000</td>\n",
       "      <td>True</td>\n",
       "      <td>377.64</td>\n",
       "      <td>7666.666667</td>\n",
       "      <td>C</td>\n",
       "      <td>1</td>\n",
       "    </tr>\n",
       "  </tbody>\n",
       "</table>\n",
       "</div>"
      ],
      "text/plain": [
       "        Term  LoanStatus  BorrowerAPR  BorrowerRate                Occupation  \\\n",
       "108531    36   Completed      0.12360        0.1025        Sales - Commission   \n",
       "92918     36   Completed      0.14207        0.1350                     Other   \n",
       "58575     36     Current      0.11563        0.0879                   Analyst   \n",
       "51304     36     Current      0.21434        0.1774            Accountant/CPA   \n",
       "44322     60     Current      0.18197        0.1585                     Other   \n",
       "992       36   Completed      0.35797        0.3177                 Biologist   \n",
       "84020     36   Defaulted      0.13202        0.1250                     Other   \n",
       "106617    36   Completed      0.35132        0.3149                   Fireman   \n",
       "14335     36   Completed      0.13413        0.1129            Accountant/CPA   \n",
       "111169    36  Chargedoff      0.16215        0.1550                     Other   \n",
       "73860     60   Completed      0.19330        0.1790                 Executive   \n",
       "100301    36     Current      0.33553        0.2958                     Other   \n",
       "2345      36   Completed      0.27417        0.2355              Professional   \n",
       "38146     36   Completed      0.16466        0.1575                       NaN   \n",
       "110529    36     Current      0.25371        0.2159   Food Service Management   \n",
       "54647     36     Current      0.15833        0.1299  Administrative Assistant   \n",
       "57490     36   Completed      0.28851        0.2499              Professional   \n",
       "20264     36     Current      0.18020        0.1440            Accountant/CPA   \n",
       "64950     36  Chargedoff      0.16005        0.1385            Sales - Retail   \n",
       "116       60     Current      0.19988        0.1760                 Executive   \n",
       "\n",
       "       EmploymentStatus  LoanOriginalAmount  IsBorrowerHomeowner  \\\n",
       "108531        Full-time                1200                False   \n",
       "92918         Full-time                8000                False   \n",
       "58575          Employed               10000                 True   \n",
       "51304          Employed               10500                 True   \n",
       "44322          Employed               20000                False   \n",
       "992            Employed                2000                False   \n",
       "84020         Full-time                3000                 True   \n",
       "106617         Employed                4000                 True   \n",
       "14335          Employed                5000                False   \n",
       "111169          Retired                5600                False   \n",
       "73860          Employed               13000                 True   \n",
       "100301     Not employed                4000                False   \n",
       "2345          Full-time                1000                False   \n",
       "38146               NaN                5000                False   \n",
       "110529         Employed                4000                False   \n",
       "54647          Employed                8000                False   \n",
       "57490          Employed                4500                 True   \n",
       "20264          Employed                2000                 True   \n",
       "64950         Full-time                5000                False   \n",
       "116            Employed               15000                 True   \n",
       "\n",
       "        MonthlyLoanPayment  StatedMonthlyIncome ProsperRating (Alpha)  \\\n",
       "108531               38.86          2691.666667                   NaN   \n",
       "92918               271.48          2080.000000                   NaN   \n",
       "58575               317.02          7916.666667                     A   \n",
       "51304               378.23          6166.666667                     C   \n",
       "44322               484.77          6250.000000                     B   \n",
       "992                  86.85          4833.333333                    HR   \n",
       "84020               100.36          2600.000000                   NaN   \n",
       "106617              173.09          4583.333333                     E   \n",
       "14335               164.38         11200.000000                     A   \n",
       "111169              195.50          3166.666667                   NaN   \n",
       "73860               329.41          4666.666667                     B   \n",
       "100301              168.89             0.000000                     E   \n",
       "2345                 21.43          2708.333333                     D   \n",
       "38146               175.17          4479.250000                   NaN   \n",
       "110529              151.91           167.750000                     C   \n",
       "54647               269.51          3750.000000                     A   \n",
       "57490               178.90          6333.333333                     D   \n",
       "20264                68.74          8226.666667                     B   \n",
       "64950               170.52          2666.666667                     A   \n",
       "116                 377.64          7666.666667                     C   \n",
       "\n",
       "        ListingCategory (numeric)  \n",
       "108531                          1  \n",
       "92918                           1  \n",
       "58575                           7  \n",
       "51304                           1  \n",
       "44322                           1  \n",
       "992                             7  \n",
       "84020                           0  \n",
       "106617                          7  \n",
       "14335                           7  \n",
       "111169                          0  \n",
       "73860                           1  \n",
       "100301                          1  \n",
       "2345                            1  \n",
       "38146                           0  \n",
       "110529                          7  \n",
       "54647                           1  \n",
       "57490                           2  \n",
       "20264                           7  \n",
       "64950                           1  \n",
       "116                             1  "
      ]
     },
     "execution_count": 21,
     "metadata": {},
     "output_type": "execute_result"
    }
   ],
   "source": [
    "# Filter for relevant columns\n",
    "loans_df = loans[['Term', 'LoanStatus', 'BorrowerAPR', 'BorrowerRate', 'Occupation','EmploymentStatus', 'LoanOriginalAmount','IsBorrowerHomeowner',  'MonthlyLoanPayment', 'StatedMonthlyIncome', 'ProsperRating (Alpha)', 'ListingCategory (numeric)']]\n",
    "\n",
    "loans_df.sample(20)"
   ]
  },
  {
   "cell_type": "code",
   "execution_count": 22,
   "metadata": {
    "slideshow": {
     "slide_type": "skip"
    }
   },
   "outputs": [],
   "source": [
    "# drop nulls \n",
    "loans_df = loans_df.dropna(axis=0)"
   ]
  },
  {
   "cell_type": "code",
   "execution_count": 23,
   "metadata": {
    "slideshow": {
     "slide_type": "skip"
    }
   },
   "outputs": [
    {
     "data": {
      "text/plain": [
       "(83520, 12)"
      ]
     },
     "execution_count": 23,
     "metadata": {},
     "output_type": "execute_result"
    }
   ],
   "source": [
    "loans_df.shape"
   ]
  },
  {
   "cell_type": "markdown",
   "metadata": {
    "slideshow": {
     "slide_type": "skip"
    }
   },
   "source": [
    "> Note that the above cells have been set as \"Skip\"-type slides. That means\n",
    "that when the notebook is rendered as http slides, those cells won't show up."
   ]
  },
  {
   "cell_type": "markdown",
   "metadata": {
    "slideshow": {
     "slide_type": "slide"
    }
   },
   "source": [
    "## Visualization 1\n",
    "What is the ratio of Positive loan Status?\n",
    "* Current and Completed that are elements in my assumed **Positive Loan Status** are the most occuring Loan Status.\n",
    "> More than `50%` of Prosper loans are *currently still running*, whereas loan status *Completed* have second most number of counts, representing `30%` of the whole dataset.\n",
    "\n",
    "\n",
    "\n",
    "\n"
   ]
  },
  {
   "cell_type": "code",
   "execution_count": 24,
   "metadata": {
    "slideshow": {
     "slide_type": "subslide"
    }
   },
   "outputs": [
    {
     "data": {
      "image/png": "[encoded data removed]",
      "text/plain": [
       "<Figure size 1008x432 with 1 Axes>"
      ]
     },
     "metadata": {
      "needs_background": "light"
     },
     "output_type": "display_data"
    }
   ],
   "source": [
    "\n",
    "#Explore the LoanStatus\n",
    "\n",
    "# Define myCountplot function\n",
    "def myCountplot(xVar,rot=0, color=sb.color_palette()[0],figsize=[14,6],reindex=None,kind='bar'):\n",
    "    \n",
    "    if figsize:\n",
    "        plt.figure(figsize=figsize)\n",
    "\n",
    "    loans_df[xVar].value_counts(normalize=True).mul(100).reindex(index=reindex).plot(kind=kind, color=color,rot=rot)\n",
    "\n",
    "\n",
    "    plt.title(f'Relative Frequency of {xVar}')\n",
    "\n",
    "    if kind =='bar':\n",
    "        plt.ylabel(f'% Distribution of {xVar}')\n",
    "        plt.xlabel(xVar)\n",
    "\n",
    "    else:\n",
    "        plt.ylabel(f'% Distribution of {xVar}')\n",
    "        plt.xlabel(xVar)\n",
    "\n",
    "\n",
    "\n",
    "\n",
    "    \n",
    "myCountplot('LoanStatus',kind= 'barh')\n",
    "\n"
   ]
  },
  {
   "cell_type": "markdown",
   "metadata": {
    "slideshow": {
     "slide_type": "fragment"
    }
   },
   "source": [
    "<div align=\"center\">Fig 1: Relative Frequency of Loan Status </div>\n"
   ]
  },
  {
   "cell_type": "markdown",
   "metadata": {
    "slideshow": {
     "slide_type": "slide"
    }
   },
   "source": [
    "## Visualization 2\n",
    "\n",
    "Does **loan status** have anything to do **BorrowerRate?**\n",
    "* Does the **BorrowerRate** have an influence on the completion status of the Loan?\n",
    "> * Quite Evident, Past Due(>120 days) has the highest minimum rate, while the lowest minimum is in the Completed Status followed by the current status\n",
    "\n"
   ]
  },
  {
   "cell_type": "code",
   "execution_count": 25,
   "metadata": {
    "slideshow": {
     "slide_type": "subslide"
    }
   },
   "outputs": [
    {
     "data": {
      "image/png": "[encoded data removed]",
      "text/plain": [
       "<Figure size 1152x576 with 1 Axes>"
      ]
     },
     "metadata": {
      "needs_background": "light"
     },
     "output_type": "display_data"
    }
   ],
   "source": [
    "\n",
    "# plot a bivariate plot for the two qualitative variables using boxplot\n",
    "def ls_rate():\n",
    "\n",
    "    plt.subplots(figsize=[16,8])\n",
    "\n",
    "    base_color=sb.color_palette()[0]\n",
    "\n",
    "    stat_order=loans_df.LoanStatus.value_counts().index\n",
    "\n",
    "\n",
    "    \n",
    "    sb.boxplot(data=loans_df,y='LoanStatus',x='BorrowerRate',color=base_color,order=stat_order)\n",
    "    plt.title('BorrowerRate Vs LoanStatus')\n",
    "    plt.xlabel('Loan Status')\n",
    "    plt.xticks(rotation=15)\n",
    "    plt.show()\n",
    "\n",
    "ls_rate()\n"
   ]
  },
  {
   "cell_type": "markdown",
   "metadata": {
    "slideshow": {
     "slide_type": "fragment"
    }
   },
   "source": [
    "<div align=\"center\">Fig 2: Bivariate Visualization of LoanStatus Vs BorrowerRate </div>\n"
   ]
  },
  {
   "cell_type": "markdown",
   "metadata": {
    "slideshow": {
     "slide_type": "skip"
    }
   },
   "source": []
  },
  {
   "cell_type": "markdown",
   "metadata": {
    "collapsed": true,
    "slideshow": {
     "slide_type": "slide"
    }
   },
   "source": [
    "## Visualization 3\n",
    "\n",
    "What Term and ProsperRating influences Loan Status?\n",
    "* Across all Loan terms, the Frequency and Order of the Loan Status have always been consistent *(Current & Completed respectively)* with only the exception of 12 months loans, having more completed than current.\n",
    "* Prosper Rating D is the most completed while ProsperRating C is the most occuring"
   ]
  },
  {
   "cell_type": "code",
   "execution_count": 26,
   "metadata": {
    "slideshow": {
     "slide_type": "subslide"
    }
   },
   "outputs": [
    {
     "data": {
      "image/png": "[encoded data removed]",
      "text/plain": [
       "<Figure size 1440x720 with 11 Axes>"
      ]
     },
     "metadata": {
      "needs_background": "light"
     },
     "output_type": "display_data"
    }
   ],
   "source": [
    "\n",
    "# plot on Grid\n",
    "def rating_status():\n",
    "    rating_order=['AA','A', 'B', 'C', 'D','E','HR']\n",
    "    g = sb.catplot(x='ProsperRating (Alpha)', order= rating_order, hue=\"Term\",hue_order=[12,36,60],  col=\"LoanStatus\",\n",
    "                data=loans_df, kind=\"count\",\n",
    "                height=4, palette='PuBu',col_wrap=4,\n",
    "                dodge=True).set(yscale = 'log');\n",
    "\n",
    "    g.set_titles(row_template = '{row_name}', col_template = '{col_name}')\n",
    "    plt.suptitle(\"MultiVariate Visualization of Prosper Ratings for Each Loan Status in each Term\", fontsize=15, y=1.05);\n",
    "    g.fig.set_size_inches(20,10)\n",
    "\n",
    "rating_status()"
   ]
  },
  {
   "cell_type": "markdown",
   "metadata": {
    "slideshow": {
     "slide_type": "fragment"
    }
   },
   "source": [
    "<div align=\"center\">Fig 2: MultiVariate Visualization of Prosper Ratings for Each Loan Status in each Term </div>\n"
   ]
  },
  {
   "cell_type": "markdown",
   "metadata": {
    "slideshow": {
     "slide_type": "slide"
    }
   },
   "source": [
    "## Key Insights for Presentation\n",
    "\n",
    "The investigation showed that LoanStatus, Current and Completed that are elements in my assumed **Positive Loan Status** are the most occuring and also have the lowest Rates. BorrowerRate and BorrowerAPR have a positive correlation. \n",
    "\n",
    "Across all terms the Frequency and Order of the Loan Status have always been consistent with only the exception of 12 months loans, having more completed than current."
   ]
  },
  {
   "cell_type": "code",
   "execution_count": 27,
   "metadata": {
    "slideshow": {
     "slide_type": "skip"
    }
   },
   "outputs": [
    {
     "name": "stdout",
     "output_type": "stream",
     "text": [
      "[NbConvertApp] Converting notebook Part_II_slide_deck.ipynb to slides\n",
      "[NbConvertApp] Writing 676139 bytes to Part_II_slide_deck.slides.html\n",
      "[NbConvertApp] Redirecting reveal.js requests to https://cdnjs.cloudflare.com/ajax/libs/reveal.js/3.5.0\n",
      "Serving your slides at http://127.0.0.1:8000/Part_II_slide_deck.slides.html\n",
      "Use Control-C to stop this server\n",
      "^C\n",
      "\n",
      "Interrupted\n"
     ]
    }
   ],
   "source": [
    "# Use this command if you are running this file in local\n",
    "!jupyter nbconvert Part_II_slide_deck.ipynb --to slides --post serve --no-input --no-prompt"
   ]
  },
  {
   "cell_type": "code",
   "execution_count": null,
   "metadata": {
    "slideshow": {
     "slide_type": "skip"
    }
   },
   "outputs": [],
   "source": []
  }
 ],
 "metadata": {
  "celltoolbar": "Slideshow",
  "kernelspec": {
   "display_name": "Python 3",
   "language": "python",
   "name": "python3"
  },
  "language_info": {
   "codemirror_mode": {
    "name": "ipython",
    "version": 3
   },
   "file_extension": ".py",
   "mimetype": "text/x-python",
   "name": "python",
   "nbconvert_exporter": "python",
   "pygments_lexer": "ipython3",
   "version": "3.6.3"
  },
  "vscode": {
   "interpreter": {
    "hash": "aee8b7b246df8f9039afb4144a1f6fd8d2ca17a180786b69acc140d282b71a49"
   }
  }
 },
 "nbformat": 4,
 "nbformat_minor": 2
}
